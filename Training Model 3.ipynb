{
 "cells": [
  {
   "cell_type": "code",
   "execution_count": null,
   "metadata": {},
   "outputs": [],
   "source": [
    "import numpy as np\n",
    "import keras\n",
    "from keras.models import Sequential\n",
    "from keras.layers.core import Dense\n",
    "from keras.layers import Dropout,Conv2D\n",
    "from sklearn.model_selection import train_test_split\n",
    "import csv\n",
    "import pandas as pd\n",
    "import matplotlib.pyplot as plt\n",
    "from keras.utils import to_categorical\n",
    "from sklearn.preprocessing import LabelBinarizer\n",
    "encoder = LabelBinarizer()"
   ]
  },
  {
   "cell_type": "code",
   "execution_count": null,
   "metadata": {},
   "outputs": [],
   "source": [
    "main = pd.read_csv('Final_Dataset.csv')\n",
    "team1 = pd.read_csv('Final_Dataset.csv',usecols=['Team_1'])\n",
    "team2 = pd.read_csv('Final_Dataset.csv',usecols=['Team_2']).values\n",
    "###ha = pd.read_csv('dataset/main.csv',usecols=['Home']).values\n",
    "#One Hot encoding\n",
    "\n",
    "team1 = encoder.fit_transform(team1)\n",
    "team2 = encoder.fit_transform(team2)\n",
    "###homeaway = encoder.fit_transform(ha)\n",
    "\n",
    "oneHot = np.append(team1,team2,axis=1)"
   ]
  },
  {
   "cell_type": "code",
   "execution_count": null,
   "metadata": {},
   "outputs": [],
   "source": [
    "#Loading stats\n",
    "#Preparing Data\n",
    "statistics = pd.read_csv('Final_Dataset.csv')\n",
    "statistics = statistics[['T1_score','T1_wickets','T1_overs','T1_rpo','T2_score','T2_wickets','T2_overs','T2_rpo']].values\n",
    "statistics = np.append(oneHot,statistics,axis=1)\n",
    "#Output data\n",
    "winLoss =  pd.read_csv('Final_Dataset.csv',usecols=['T1_result']).values\n",
    "winLoss = encoder.fit_transform(winLoss)\n",
    "\n",
    "X_train, X_test, y_train, y_test = train_test_split(statistics, winLoss, test_size=0.20)"
   ]
  },
  {
   "cell_type": "code",
   "execution_count": null,
   "metadata": {},
   "outputs": [],
   "source": [
    "#MODEL\n",
    "model = Sequential()\n",
    "keras.optimizers.adam(lr=0.1)\n",
    "\n",
    "model.add(Dense(30, activation='relu',input_dim=28))\n",
    "model.add(Dropout(0.30))\n",
    "model.add(Dense(25, activation='relu'))\n",
    "model.add(Dense(10, activation='relu'))\n",
    "model.add(Dense(1, activation = 'sigmoid'))\n",
    "\n",
    "model.compile(loss='binary_crossentropy',\n",
    "              optimizer='adam',\n",
    "              metrics=['accuracy'])\n",
    "\n",
    "history = model.fit(np.asarray(X_train),np.asarray(y_train), epochs=500)"
   ]
  },
  {
   "cell_type": "code",
   "execution_count": null,
   "metadata": {},
   "outputs": [],
   "source": [
    "#Testing\n",
    "print(model.evaluate(X_test,y_test))\n",
    "model.summary()"
   ]
  },
  {
   "cell_type": "code",
   "execution_count": null,
   "metadata": {},
   "outputs": [],
   "source": [
    "plt.plot(history.history['acc'])\n",
    "plt.title('Model Accuracy on Training')\n",
    "plt.ylabel('Accuracy')\n",
    "plt.xlabel('Epochs')\n",
    "plt.show()"
   ]
  },
  {
   "cell_type": "code",
   "execution_count": 16,
   "metadata": {},
   "outputs": [
    {
     "name": "stdout",
     "output_type": "stream",
     "text": [
      "[0 0 0 1 0 0 0 0 0 0 0 0 0 0 1 0 0 0 0 0]\n",
      "[315.25     8.      49.875    6.3075 294.25     7.      47.05     6.28  ]\n",
      "England WINS\n"
     ]
    }
   ],
   "source": [
    "#CLI UI\n",
    "####while(True):\n",
    "#NEED TO LOAD DATA AGAIN!\n",
    "stats = pd.read_csv('Final_Dataset.csv')\n",
    "home = pd.read_csv('Final_Dataset.csv',usecols=['Team_1'])\n",
    "away = pd.read_csv('Final_Dataset.csv',usecols=['Team_2']).values\n",
    "home = encoder.fit_transform(home)\n",
    "away = encoder.fit_transform(away)\n",
    "\n",
    "\n",
    "#t1 = input(\"Enter team batting first: \")\n",
    "#t2 = input(\"Enter team batting second: \")\n",
    "t1 = \"England\"\n",
    "t2 = \"India\"\n",
    "\n",
    "#Finding the row where these teams match\n",
    "location = stats.loc[(stats['Team_1']==t1) & (stats['Team_2']==t2)].index\n",
    "teams = np.append(home[location[0]],away[location[0]])\n",
    "statsPredict = stats[(stats['Team_1']==t1) & (stats['Team_2']==t2)]\n",
    "statsPredict = statsPredict[['T1_score','T1_wickets','T1_overs','T1_rpo','T2_score','T2_wickets','T2_overs','T2_rpo']].values\n",
    "statsPredict = statsPredict.mean(axis=0)\n",
    "statsPredict = np.transpose(statsPredict)\n",
    "teams = np.append(teams,statsPredict)\n",
    "#PREDICTION!!!!!\n",
    "#PRINTING\n",
    "prediction = model.predict(np.asarray([teams]))\n",
    "#print(prediction)\n",
    "if(prediction>0.5):\n",
    "    print(t1, \"WINS\")\n",
    "elif(prediction>0.45 and prediction<0.55):\n",
    "    print(\"Game will be close\")\n",
    "else:\n",
    "    print(t2,\"WINS\")"
   ]
  }
 ],
 "metadata": {
  "kernelspec": {
   "display_name": "Python 3",
   "language": "python",
   "name": "python3"
  },
  "language_info": {
   "codemirror_mode": {
    "name": "ipython",
    "version": 3
   },
   "file_extension": ".py",
   "mimetype": "text/x-python",
   "name": "python",
   "nbconvert_exporter": "python",
   "pygments_lexer": "ipython3",
   "version": "3.6.1"
  }
 },
 "nbformat": 4,
 "nbformat_minor": 2
}
