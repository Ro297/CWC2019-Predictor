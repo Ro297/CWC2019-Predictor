{
 "cells": [
  {
   "cell_type": "code",
   "execution_count": 1,
   "metadata": {},
   "outputs": [],
   "source": [
    "import pandas as pd \n",
    "import numpy as np\n",
    "import pickle"
   ]
  },
  {
   "cell_type": "code",
   "execution_count": 13,
   "metadata": {},
   "outputs": [
    {
     "data": {
      "text/plain": [
       "array([[  0.,   0.,   0.,   0.,   0.,   0.,   0.,   0.,   0.,   0.,   0.,\n",
       "          0.,   0.,   0.,   0.,   0.,   0.,   0.,   0.,   0., 334.]])"
      ]
     },
     "execution_count": 13,
     "metadata": {},
     "output_type": "execute_result"
    }
   ],
   "source": [
    "dataset = pd.read_csv('cricketstats.csv')\n",
    "vectorized = pd.get_dummies(dataset.iloc[:,1:3])\n",
    "\n",
    "record = np.zeros((1,21),dtype='float64')\n",
    "r = 334\n",
    "\n",
    "record[0,20] = r\n",
    "record"
   ]
  },
  {
   "cell_type": "code",
   "execution_count": 38,
   "metadata": {},
   "outputs": [],
   "source": [
    "def result(team, opposition, Score, Wickets, Overs):\n",
    "    \n",
    "    dataset = pd.read_csv('cricketstats.csv')\n",
    "    vectorized = pd.get_dummies(dataset.iloc[:,1:3])\n",
    "    \n",
    "    record = np.zeros((1,25),dtype='float64')\n",
    "    t = \"Team_\" + team\n",
    "    o = \"Opposition_\" + opposition        \n",
    "    record[0,20] = Score\n",
    "    record[0,21] = Wickets\n",
    "    record[0,22] = Overs\n",
    "    record[0,23] = float(Score/Overs)\n",
    "    record[0,24] = 1\n",
    "    \n",
    "    filename = 'model2_2.sav'\n",
    "    model = pickle.load(open(filename, 'rb'))\n",
    "    ans = model.predict(record)\n",
    "\n",
    "    if ans == 1:\n",
    "        print(team + \" will win\")\n",
    "    elif ans == 0:\n",
    "        print(opposition + \" will win\")"
   ]
  },
  {
   "cell_type": "code",
   "execution_count": 45,
   "metadata": {},
   "outputs": [
    {
     "name": "stdout",
     "output_type": "stream",
     "text": [
      "West Indies will win\n"
     ]
    }
   ],
   "source": [
    "result(\"West Indies\",\"Afghanistan\", 41, 1, 10)"
   ]
  }
 ],
 "metadata": {
  "kernelspec": {
   "display_name": "Python 3",
   "language": "python",
   "name": "python3"
  },
  "language_info": {
   "codemirror_mode": {
    "name": "ipython",
    "version": 3
   },
   "file_extension": ".py",
   "mimetype": "text/x-python",
   "name": "python",
   "nbconvert_exporter": "python",
   "pygments_lexer": "ipython3",
   "version": "3.6.1"
  }
 },
 "nbformat": 4,
 "nbformat_minor": 2
}
