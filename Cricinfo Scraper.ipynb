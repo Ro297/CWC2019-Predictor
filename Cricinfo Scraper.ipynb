{
 "cells": [
  {
   "cell_type": "code",
   "execution_count": 7,
   "metadata": {},
   "outputs": [],
   "source": [
    "from lxml import html\n",
    "import requests\n",
    "import pandas as pd\n",
    "import os\n",
    "from selenium import webdriver\n",
    "import time"
   ]
  },
  {
   "cell_type": "code",
   "execution_count": 8,
   "metadata": {},
   "outputs": [],
   "source": [
    "def data_to_csv(data, filename):\n",
    "    df = pd.DataFrame.from_dict(data).reset_index().set_index('index')\n",
    "    print(df)\n",
    "    writer = open(os.path.join(filename), \"a\")#, encoding=\"utf-8\")\n",
    "    csv_data = df.to_csv()\n",
    "    writer.write('\\n')\n",
    "    writer.write(csv_data)\n",
    "    writer.close()"
   ]
  },
  {
   "cell_type": "code",
   "execution_count": 27,
   "metadata": {},
   "outputs": [],
   "source": [
    "url = 'http://stats.espncricinfo.com/ci/engine/stats/index.html?class=2;opposition=1;opposition=2;opposition=25;opposition=3;opposition=4;opposition=40;opposition=5;opposition=6;opposition=7;opposition=8;orderby=start;page='\n",
    "ext = ';result=1;result=2;spanmax3=03+Jun+2019;spanmin3=03+Jul+2015;spanval3=span;team=1;team=2;team=25;team=3;team=4;team=40;team=5;team=6;team=7;team=8;template=results;type=team;view=innings'\n",
    "\n",
    "for i in range(1,13):\n",
    "    page = requests.get(url+str(i)+ext)\n",
    "    tree = html.fromstring(page.content)\n",
    "    team = tree.xpath('//*[contains(concat( \" \", @class, \" \" ), concat( \" \", \"engineTable\", \" \" )) and (((count(preceding-sibling::*) + 1) = 5) and parent::*)]//*[contains(concat( \" \", @class, \" \" ), concat( \" \", \"left\", \" \" )) and (((count(preceding-sibling::*) + 1) = 1) and parent::*)]//text()')\n",
    "    score = tree.xpath('//*[contains(concat( \" \", @class, \" \" ), concat( \" \", \"engineTable\", \" \" )) and (((count(preceding-sibling::*) + 1) = 5) and parent::*)]//tr//*[(((count(preceding-sibling::*) + 1) = 2) and parent::*)]//text()')\n",
    "    overs = tree.xpath('//*[contains(concat( \" \", @class, \" \" ), concat( \" \", \"engineTable\", \" \" )) and (((count(preceding-sibling::*) + 1) = 5) and parent::*)]//tr//*[(((count(preceding-sibling::*) + 1) = 3) and parent::*)]//text()')\n",
    "    RPO = tree.xpath('//*[contains(concat( \" \", @class, \" \" ), concat( \" \", \"engineTable\", \" \" )) and (((count(preceding-sibling::*) + 1) = 5) and parent::*)]//tr//*[(((count(preceding-sibling::*) + 1) = 4) and parent::*)]//text()')\n",
    "    Inns = tree.xpath('//*[contains(concat( \" \", @class, \" \" ), concat( \" \", \"engineTable\", \" \" )) and (((count(preceding-sibling::*) + 1) = 5) and parent::*)]//tr//*[(((count(preceding-sibling::*) + 1) = 5) and parent::*)]//text()')\n",
    "    Result = tree.xpath('//*[contains(concat( \" \", @class, \" \" ), concat( \" \", \"engineTable\", \" \" )) and (((count(preceding-sibling::*) + 1) = 5) and parent::*)]//tr//*[(((count(preceding-sibling::*) + 1) = 6) and parent::*)]//text()')\n",
    "    Opp = tree.xpath('//*[contains(concat( \" \", @class, \" \" ), concat( \" \", \"left\", \" \" )) and (((count(preceding-sibling::*) + 1) = 8) and parent::*)]//text()')\n",
    "    Opp = Opp[0::2]\n",
    "    Date = tree.xpath('//*[contains(concat( \" \", @class, \" \" ), concat( \" \", \"data1\", \" \" ))]//b//text()')\n",
    "    Date = ['Date']+ Date\n",
    "\n",
    "    data_dict= {\n",
    "        'Team': team,\n",
    "        'Score': score,\n",
    "        'Overs': overs,\n",
    "        'RPO': RPO,\n",
    "        'Innings': Inns,\n",
    "        'Result': Result,\n",
    "        'Opposition': Opp,\n",
    "        'Date': Date\n",
    "    }\n",
    "\n",
    "    filename= f\"cricketstats.csv\"\n",
    "    data_to_csv(data_dict, filename)"
   ]
  },
  {
   "cell_type": "code",
   "execution_count": 118,
   "metadata": {},
   "outputs": [],
   "source": [
    "df = pd.read_csv('cricketstats.csv',sep=',')\n",
    "df.set_index('num',inplace=True)"
   ]
  },
  {
   "cell_type": "code",
   "execution_count": 119,
   "metadata": {},
   "outputs": [],
   "source": [
    "df1 = df.iloc[0:596:2, :]\n",
    "df2 = df.iloc[1:596:2, :]"
   ]
  },
  {
   "cell_type": "code",
   "execution_count": 120,
   "metadata": {},
   "outputs": [],
   "source": [
    "df1.reset_index(inplace=True, drop=True)\n",
    "df2.reset_index(inplace=True, drop=True)"
   ]
  },
  {
   "cell_type": "code",
   "execution_count": 126,
   "metadata": {},
   "outputs": [],
   "source": [
    "df_col = pd.concat([df1,df2], axis=1)"
   ]
  },
  {
   "cell_type": "code",
   "execution_count": 128,
   "metadata": {},
   "outputs": [],
   "source": [
    "df_col.to_csv('Final_Dataset.csv',index=False) "
   ]
  },
  {
   "cell_type": "markdown",
   "metadata": {},
   "source": [
    "Dataset was cleaned to remove extra columns and rename columns to avoid confusion\n",
    "\n",
    "result - 0 = loss, 1 = win\n",
    "\n",
    "Team1 batted first and Team2 batted second"
   ]
  }
 ],
 "metadata": {
  "kernelspec": {
   "display_name": "Python 3",
   "language": "python",
   "name": "python3"
  },
  "language_info": {
   "codemirror_mode": {
    "name": "ipython",
    "version": 3
   },
   "file_extension": ".py",
   "mimetype": "text/x-python",
   "name": "python",
   "nbconvert_exporter": "python",
   "pygments_lexer": "ipython3",
   "version": "3.6.1"
  }
 },
 "nbformat": 4,
 "nbformat_minor": 2
}
